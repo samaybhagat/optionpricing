{
 "cells": [
  {
   "cell_type": "code",
   "execution_count": 78,
   "id": "6688d6bd",
   "metadata": {},
   "outputs": [],
   "source": [
    "import numpy as np\n",
    "from qiskit.circuit.library import TwoLocal\n",
    "from qiskit.quantum_info import Statevector\n",
    "from qiskit.algorithms import IterativeAmplitudeEstimation\n",
    "from qiskit_finance.applications.estimation import EuropeanCallPricing\n",
    "from qiskit_finance.circuit.library import NormalDistribution"
   ]
  },
  {
   "cell_type": "code",
   "execution_count": 79,
   "id": "15ff804b",
   "metadata": {},
   "outputs": [],
   "source": [
    "# Set the parameters\n",
    "bounds = np.array([0.0, 7.0])\n",
    "num_qubits = 3\n",
    "parameters = [0.367845, 0.128729, 0.908456, 0.621987, 0.485623, 0.793521]\n",
    "strike_price = 3\n",
    "payoff_approx = 0.5"
   ]
  },
  {
   "cell_type": "code",
   "execution_count": 80,
   "id": "c27457bf",
   "metadata": {},
   "outputs": [],
   "source": [
    "# Set up the circuits\n",
    "distrib = NormalDistribution(num_qubits, mu=1, sigma=1, bounds=bounds)\n",
    "qcirc = TwoLocal(num_qubits, \"ry\", \"cz\", entanglement=\"circular\", reps=1)\n",
    "theta = qcirc.ordered_parameters\n",
    "unc_cir = distrib.compose(qcirc)"
   ]
  },
  {
   "cell_type": "code",
   "execution_count": 81,
   "id": "b5207e15",
   "metadata": {},
   "outputs": [],
   "source": [
    "# Calculate the probabilities and plot the distributions\n",
    "values = np.array([bounds[0] + (bounds[1] - bounds[0]) * x / (2**num_qubits - 1) for x in range(2**num_qubits)])\n",
    "uncertainty_model = unc_cir.assign_parameters(dict(zip(theta, parameters)))\n",
    "amplitudes = Statevector.from_instruction(uncertainty_model).data\n",
    "y = np.abs(amplitudes) ** 2"
   ]
  },
  {
   "cell_type": "code",
   "execution_count": 82,
   "id": "af89449c",
   "metadata": {},
   "outputs": [],
   "source": [
    "# Calculate the payoff function and plot it\n",
    "x = values\n",
    "y_strike = np.maximum(0, x - strike_price)\n",
    "european_call_pricing = EuropeanCallPricing(num_qubits, strike_price=strike_price, rescaling_factor=payoff_approx, bounds=bounds, uncertainty_model=uncertainty_model)"
   ]
  },
  {
   "cell_type": "code",
   "execution_count": 83,
   "id": "60d6d17f",
   "metadata": {},
   "outputs": [],
   "source": [
    "# Estimate the value\n",
    "epsilon = 0.01\n",
    "alpha = 0.05\n",
    "problem = european_call_pricing.to_estimation_problem()\n",
    "ae = IterativeAmplitudeEstimation(epsilon_target=epsilon, alpha=alpha, sampler=Sampler(run_options={\"shots\": 100}))\n",
    "result = ae.estimate(problem)"
   ]
  },
  {
   "cell_type": "code",
   "execution_count": 84,
   "id": "1b94e9cf",
   "metadata": {},
   "outputs": [
    {
     "name": "stdout",
     "output_type": "stream",
     "text": [
      "Estimated value:    \t-0.5463\n",
      "Confidence interval:\t[-0.5465, -0.5462]\n"
     ]
    }
   ],
   "source": [
    "# Print the results\n",
    "print(\"Estimated value:    \\t%.4f\" % (result.estimation_processed))\n",
    "conf_int = np.array(result.confidence_interval_processed)\n",
    "print(\"Confidence interval:\\t[%.4f, %.4f]\" % tuple(conf_int))"
   ]
  }
 ],
 "metadata": {
  "kernelspec": {
   "display_name": "Qiskit (stable)",
   "language": "python",
   "name": "qiskit-stable"
  },
  "language_info": {
   "codemirror_mode": {
    "name": "ipython",
    "version": 3
   },
   "file_extension": ".py",
   "mimetype": "text/x-python",
   "name": "python",
   "nbconvert_exporter": "python",
   "pygments_lexer": "ipython3",
   "version": "3.9.15"
  }
 },
 "nbformat": 4,
 "nbformat_minor": 5
}
